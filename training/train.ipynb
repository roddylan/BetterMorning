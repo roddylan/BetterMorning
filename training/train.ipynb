{
 "cells": [
  {
   "cell_type": "code",
   "execution_count": 4,
   "metadata": {},
   "outputs": [],
   "source": [
    "# ROBOFLOW API KEY AND PROJECT NAME\n",
    "APIKEY = \"\"\n",
    "PROJECT_NAME = \"\""
   ]
  },
  {
   "cell_type": "code",
   "execution_count": 2,
   "metadata": {},
   "outputs": [
    {
     "name": "stdout",
     "output_type": "stream",
     "text": [
      "Requirement already satisfied: torch in /Users/rodericklan/opt/anaconda3/lib/python3.9/site-packages (2.1.2)\n",
      "Requirement already satisfied: sympy in /Users/rodericklan/opt/anaconda3/lib/python3.9/site-packages (from torch) (1.10.1)\n",
      "Requirement already satisfied: typing-extensions in /Users/rodericklan/opt/anaconda3/lib/python3.9/site-packages (from torch) (4.3.0)\n",
      "Requirement already satisfied: jinja2 in /Users/rodericklan/opt/anaconda3/lib/python3.9/site-packages (from torch) (2.11.3)\n",
      "Requirement already satisfied: filelock in /Users/rodericklan/opt/anaconda3/lib/python3.9/site-packages (from torch) (3.6.0)\n",
      "Requirement already satisfied: networkx in /Users/rodericklan/opt/anaconda3/lib/python3.9/site-packages (from torch) (2.8.4)\n",
      "Requirement already satisfied: fsspec in /Users/rodericklan/opt/anaconda3/lib/python3.9/site-packages (from torch) (2022.7.1)\n",
      "Requirement already satisfied: MarkupSafe>=0.23 in /Users/rodericklan/opt/anaconda3/lib/python3.9/site-packages (from jinja2->torch) (2.0.1)\n",
      "Requirement already satisfied: mpmath>=0.19 in /Users/rodericklan/opt/anaconda3/lib/python3.9/site-packages (from sympy->torch) (1.2.1)\n",
      "Requirement already satisfied: numpy in /Users/rodericklan/opt/anaconda3/lib/python3.9/site-packages (1.24.4)\n",
      "Requirement already satisfied: ultralytics in /Users/rodericklan/opt/anaconda3/lib/python3.9/site-packages (8.0.232)\n",
      "Requirement already satisfied: torchvision>=0.9.0 in /Users/rodericklan/opt/anaconda3/lib/python3.9/site-packages (from ultralytics) (0.16.2)\n",
      "Requirement already satisfied: numpy>=1.22.2 in /Users/rodericklan/opt/anaconda3/lib/python3.9/site-packages (from ultralytics) (1.24.4)\n",
      "Requirement already satisfied: pyyaml>=5.3.1 in /Users/rodericklan/opt/anaconda3/lib/python3.9/site-packages (from ultralytics) (6.0)\n",
      "Requirement already satisfied: scipy>=1.4.1 in /Users/rodericklan/opt/anaconda3/lib/python3.9/site-packages (from ultralytics) (1.9.1)\n",
      "Requirement already satisfied: pandas>=1.1.4 in /Users/rodericklan/opt/anaconda3/lib/python3.9/site-packages (from ultralytics) (1.4.4)\n",
      "Requirement already satisfied: thop>=0.1.1 in /Users/rodericklan/opt/anaconda3/lib/python3.9/site-packages (from ultralytics) (0.1.1.post2209072238)\n",
      "Requirement already satisfied: tqdm>=4.64.0 in /Users/rodericklan/opt/anaconda3/lib/python3.9/site-packages (from ultralytics) (4.64.1)\n",
      "Requirement already satisfied: seaborn>=0.11.0 in /Users/rodericklan/opt/anaconda3/lib/python3.9/site-packages (from ultralytics) (0.11.2)\n",
      "Requirement already satisfied: matplotlib>=3.3.0 in /Users/rodericklan/opt/anaconda3/lib/python3.9/site-packages (from ultralytics) (3.5.2)\n",
      "Requirement already satisfied: requests>=2.23.0 in /Users/rodericklan/opt/anaconda3/lib/python3.9/site-packages (from ultralytics) (2.28.1)\n",
      "Requirement already satisfied: torch>=1.8.0 in /Users/rodericklan/opt/anaconda3/lib/python3.9/site-packages (from ultralytics) (2.1.2)\n",
      "Requirement already satisfied: psutil in /Users/rodericklan/opt/anaconda3/lib/python3.9/site-packages (from ultralytics) (5.9.0)\n",
      "Requirement already satisfied: opencv-python>=4.6.0 in /Users/rodericklan/opt/anaconda3/lib/python3.9/site-packages (from ultralytics) (4.9.0.80)\n",
      "Requirement already satisfied: py-cpuinfo in /Users/rodericklan/opt/anaconda3/lib/python3.9/site-packages (from ultralytics) (9.0.0)\n",
      "Requirement already satisfied: pillow>=7.1.2 in /Users/rodericklan/opt/anaconda3/lib/python3.9/site-packages (from ultralytics) (9.2.0)\n",
      "Requirement already satisfied: python-dateutil>=2.7 in /Users/rodericklan/opt/anaconda3/lib/python3.9/site-packages (from matplotlib>=3.3.0->ultralytics) (2.8.2)\n",
      "Requirement already satisfied: packaging>=20.0 in /Users/rodericklan/opt/anaconda3/lib/python3.9/site-packages (from matplotlib>=3.3.0->ultralytics) (21.3)\n",
      "Requirement already satisfied: pyparsing>=2.2.1 in /Users/rodericklan/opt/anaconda3/lib/python3.9/site-packages (from matplotlib>=3.3.0->ultralytics) (3.0.9)\n",
      "Requirement already satisfied: fonttools>=4.22.0 in /Users/rodericklan/opt/anaconda3/lib/python3.9/site-packages (from matplotlib>=3.3.0->ultralytics) (4.25.0)\n",
      "Requirement already satisfied: cycler>=0.10 in /Users/rodericklan/opt/anaconda3/lib/python3.9/site-packages (from matplotlib>=3.3.0->ultralytics) (0.11.0)\n",
      "Requirement already satisfied: kiwisolver>=1.0.1 in /Users/rodericklan/opt/anaconda3/lib/python3.9/site-packages (from matplotlib>=3.3.0->ultralytics) (1.4.2)\n",
      "Requirement already satisfied: pytz>=2020.1 in /Users/rodericklan/opt/anaconda3/lib/python3.9/site-packages (from pandas>=1.1.4->ultralytics) (2022.1)\n",
      "Requirement already satisfied: certifi>=2017.4.17 in /Users/rodericklan/opt/anaconda3/lib/python3.9/site-packages (from requests>=2.23.0->ultralytics) (2022.9.24)\n",
      "Requirement already satisfied: urllib3<1.27,>=1.21.1 in /Users/rodericklan/opt/anaconda3/lib/python3.9/site-packages (from requests>=2.23.0->ultralytics) (1.26.11)\n",
      "Requirement already satisfied: charset-normalizer<3,>=2 in /Users/rodericklan/opt/anaconda3/lib/python3.9/site-packages (from requests>=2.23.0->ultralytics) (2.0.4)\n",
      "Requirement already satisfied: idna<4,>=2.5 in /Users/rodericklan/opt/anaconda3/lib/python3.9/site-packages (from requests>=2.23.0->ultralytics) (3.3)\n",
      "Requirement already satisfied: filelock in /Users/rodericklan/opt/anaconda3/lib/python3.9/site-packages (from torch>=1.8.0->ultralytics) (3.6.0)\n",
      "Requirement already satisfied: sympy in /Users/rodericklan/opt/anaconda3/lib/python3.9/site-packages (from torch>=1.8.0->ultralytics) (1.10.1)\n",
      "Requirement already satisfied: fsspec in /Users/rodericklan/opt/anaconda3/lib/python3.9/site-packages (from torch>=1.8.0->ultralytics) (2022.7.1)\n",
      "Requirement already satisfied: networkx in /Users/rodericklan/opt/anaconda3/lib/python3.9/site-packages (from torch>=1.8.0->ultralytics) (2.8.4)\n",
      "Requirement already satisfied: typing-extensions in /Users/rodericklan/opt/anaconda3/lib/python3.9/site-packages (from torch>=1.8.0->ultralytics) (4.3.0)\n",
      "Requirement already satisfied: jinja2 in /Users/rodericklan/opt/anaconda3/lib/python3.9/site-packages (from torch>=1.8.0->ultralytics) (2.11.3)\n",
      "Requirement already satisfied: six>=1.5 in /Users/rodericklan/opt/anaconda3/lib/python3.9/site-packages (from python-dateutil>=2.7->matplotlib>=3.3.0->ultralytics) (1.16.0)\n",
      "Requirement already satisfied: MarkupSafe>=0.23 in /Users/rodericklan/opt/anaconda3/lib/python3.9/site-packages (from jinja2->torch>=1.8.0->ultralytics) (2.0.1)\n",
      "Requirement already satisfied: mpmath>=0.19 in /Users/rodericklan/opt/anaconda3/lib/python3.9/site-packages (from sympy->torch>=1.8.0->ultralytics) (1.2.1)\n",
      "Requirement already satisfied: matplotlib in /Users/rodericklan/opt/anaconda3/lib/python3.9/site-packages (3.5.2)\n",
      "Requirement already satisfied: fonttools>=4.22.0 in /Users/rodericklan/opt/anaconda3/lib/python3.9/site-packages (from matplotlib) (4.25.0)\n",
      "Requirement already satisfied: kiwisolver>=1.0.1 in /Users/rodericklan/opt/anaconda3/lib/python3.9/site-packages (from matplotlib) (1.4.2)\n",
      "Requirement already satisfied: packaging>=20.0 in /Users/rodericklan/opt/anaconda3/lib/python3.9/site-packages (from matplotlib) (21.3)\n",
      "Requirement already satisfied: pillow>=6.2.0 in /Users/rodericklan/opt/anaconda3/lib/python3.9/site-packages (from matplotlib) (9.2.0)\n",
      "Requirement already satisfied: pyparsing>=2.2.1 in /Users/rodericklan/opt/anaconda3/lib/python3.9/site-packages (from matplotlib) (3.0.9)\n",
      "Requirement already satisfied: python-dateutil>=2.7 in /Users/rodericklan/opt/anaconda3/lib/python3.9/site-packages (from matplotlib) (2.8.2)\n",
      "Requirement already satisfied: cycler>=0.10 in /Users/rodericklan/opt/anaconda3/lib/python3.9/site-packages (from matplotlib) (0.11.0)\n",
      "Requirement already satisfied: numpy>=1.17 in /Users/rodericklan/opt/anaconda3/lib/python3.9/site-packages (from matplotlib) (1.24.4)\n",
      "Requirement already satisfied: six>=1.5 in /Users/rodericklan/opt/anaconda3/lib/python3.9/site-packages (from python-dateutil>=2.7->matplotlib) (1.16.0)\n",
      "Requirement already satisfied: opencv-python in /Users/rodericklan/opt/anaconda3/lib/python3.9/site-packages (4.9.0.80)\n",
      "Requirement already satisfied: numpy>=1.17.0 in /Users/rodericklan/opt/anaconda3/lib/python3.9/site-packages (from opencv-python) (1.24.4)\n",
      "Collecting roboflow\n",
      "  Downloading roboflow-1.1.14-py3-none-any.whl (68 kB)\n",
      "\u001b[2K     \u001b[90m━━━━━━━━━━━━━━━━━━━━━━━━━━━━━━━━━━━━━━━━\u001b[0m \u001b[32m69.0/69.0 kB\u001b[0m \u001b[31m4.1 MB/s\u001b[0m eta \u001b[36m0:00:00\u001b[0m-:--:--\u001b[0m\n",
      "\u001b[?25hCollecting opencv-python-headless==4.8.0.74\n",
      "  Downloading opencv_python_headless-4.8.0.74-cp37-abi3-macosx_10_16_x86_64.whl (54.6 MB)\n",
      "\u001b[2K     \u001b[90m━━━━━━━━━━━━━━━━━━━━━━━━━━━━━━━━━━━━━━━━\u001b[0m \u001b[32m54.6/54.6 MB\u001b[0m \u001b[31m8.9 MB/s\u001b[0m eta \u001b[36m0:00:00\u001b[0m:00:01\u001b[0m0:01\u001b[0m\n",
      "\u001b[?25hCollecting supervision\n",
      "  Downloading supervision-0.17.1-py3-none-any.whl (77 kB)\n",
      "\u001b[2K     \u001b[90m━━━━━━━━━━━━━━━━━━━━━━━━━━━━━━━━━━━━━━━━\u001b[0m \u001b[32m77.5/77.5 kB\u001b[0m \u001b[31m10.0 MB/s\u001b[0m eta \u001b[36m0:00:00\u001b[0m\n",
      "\u001b[?25hRequirement already satisfied: six in /Users/rodericklan/opt/anaconda3/lib/python3.9/site-packages (from roboflow) (1.16.0)\n",
      "Requirement already satisfied: matplotlib in /Users/rodericklan/opt/anaconda3/lib/python3.9/site-packages (from roboflow) (3.5.2)\n",
      "Requirement already satisfied: kiwisolver>=1.3.1 in /Users/rodericklan/opt/anaconda3/lib/python3.9/site-packages (from roboflow) (1.4.2)\n",
      "Requirement already satisfied: PyYAML>=5.3.1 in /Users/rodericklan/opt/anaconda3/lib/python3.9/site-packages (from roboflow) (6.0)\n",
      "Collecting idna==2.10\n",
      "  Downloading idna-2.10-py2.py3-none-any.whl (58 kB)\n",
      "\u001b[2K     \u001b[90m━━━━━━━━━━━━━━━━━━━━━━━━━━━━━━━━━━━━━━━━\u001b[0m \u001b[32m58.8/58.8 kB\u001b[0m \u001b[31m6.4 MB/s\u001b[0m eta \u001b[36m0:00:00\u001b[0m\n",
      "\u001b[?25hRequirement already satisfied: tqdm>=4.41.0 in /Users/rodericklan/opt/anaconda3/lib/python3.9/site-packages (from roboflow) (4.64.1)\n",
      "Collecting python-magic\n",
      "  Downloading python_magic-0.4.27-py2.py3-none-any.whl (13 kB)\n",
      "Collecting cycler==0.10.0\n",
      "  Downloading cycler-0.10.0-py2.py3-none-any.whl (6.5 kB)\n",
      "Requirement already satisfied: python-dateutil in /Users/rodericklan/opt/anaconda3/lib/python3.9/site-packages (from roboflow) (2.8.2)\n",
      "Requirement already satisfied: chardet==4.0.0 in /Users/rodericklan/opt/anaconda3/lib/python3.9/site-packages (from roboflow) (4.0.0)\n",
      "Requirement already satisfied: requests in /Users/rodericklan/opt/anaconda3/lib/python3.9/site-packages (from roboflow) (2.28.1)\n",
      "Requirement already satisfied: Pillow>=7.1.2 in /Users/rodericklan/opt/anaconda3/lib/python3.9/site-packages (from roboflow) (9.2.0)\n",
      "Collecting python-dotenv\n",
      "  Using cached python_dotenv-1.0.0-py3-none-any.whl (19 kB)\n",
      "Requirement already satisfied: numpy>=1.18.5 in /Users/rodericklan/opt/anaconda3/lib/python3.9/site-packages (from roboflow) (1.24.4)\n",
      "Requirement already satisfied: urllib3>=1.26.6 in /Users/rodericklan/opt/anaconda3/lib/python3.9/site-packages (from roboflow) (1.26.11)\n",
      "Collecting pyparsing==2.4.7\n",
      "  Downloading pyparsing-2.4.7-py2.py3-none-any.whl (67 kB)\n",
      "\u001b[2K     \u001b[90m━━━━━━━━━━━━━━━━━━━━━━━━━━━━━━━━━━━━━━━━\u001b[0m \u001b[32m67.8/67.8 kB\u001b[0m \u001b[31m5.6 MB/s\u001b[0m eta \u001b[36m0:00:00\u001b[0m\n",
      "\u001b[?25hCollecting requests-toolbelt\n",
      "  Downloading requests_toolbelt-1.0.0-py2.py3-none-any.whl (54 kB)\n",
      "\u001b[2K     \u001b[90m━━━━━━━━━━━━━━━━━━━━━━━━━━━━━━━━━━━━━━━━\u001b[0m \u001b[32m54.5/54.5 kB\u001b[0m \u001b[31m4.0 MB/s\u001b[0m eta \u001b[36m0:00:00\u001b[0m\n",
      "\u001b[?25hCollecting certifi==2023.7.22\n",
      "  Downloading certifi-2023.7.22-py3-none-any.whl (158 kB)\n",
      "\u001b[2K     \u001b[90m━━━━━━━━━━━━━━━━━━━━━━━━━━━━━━━━━━━━━━\u001b[0m \u001b[32m158.3/158.3 kB\u001b[0m \u001b[31m11.2 MB/s\u001b[0m eta \u001b[36m0:00:00\u001b[0m\n",
      "\u001b[?25hRequirement already satisfied: fonttools>=4.22.0 in /Users/rodericklan/opt/anaconda3/lib/python3.9/site-packages (from matplotlib->roboflow) (4.25.0)\n",
      "Requirement already satisfied: packaging>=20.0 in /Users/rodericklan/opt/anaconda3/lib/python3.9/site-packages (from matplotlib->roboflow) (21.3)\n",
      "Requirement already satisfied: charset-normalizer<3,>=2 in /Users/rodericklan/opt/anaconda3/lib/python3.9/site-packages (from requests->roboflow) (2.0.4)\n",
      "Requirement already satisfied: scipy>=1.9.0 in /Users/rodericklan/opt/anaconda3/lib/python3.9/site-packages (from supervision->roboflow) (1.9.1)\n",
      "Collecting Pillow>=7.1.2\n",
      "  Downloading pillow-10.2.0-cp39-cp39-macosx_10_10_x86_64.whl (3.5 MB)\n",
      "\u001b[2K     \u001b[90m━━━━━━━━━━━━━━━━━━━━━━━━━━━━━━━━━━━━━━━━\u001b[0m \u001b[32m3.5/3.5 MB\u001b[0m \u001b[31m11.2 MB/s\u001b[0m eta \u001b[36m0:00:00\u001b[0m00:01\u001b[0m00:01\u001b[0m\n",
      "\u001b[?25hInstalling collected packages: python-magic, python-dotenv, pyparsing, Pillow, opencv-python-headless, idna, cycler, certifi, requests-toolbelt, supervision, roboflow\n",
      "  Attempting uninstall: pyparsing\n",
      "    Found existing installation: pyparsing 3.0.9\n",
      "    Uninstalling pyparsing-3.0.9:\n",
      "      Successfully uninstalled pyparsing-3.0.9\n",
      "  Attempting uninstall: Pillow\n",
      "    Found existing installation: Pillow 9.2.0\n",
      "    Uninstalling Pillow-9.2.0:\n",
      "      Successfully uninstalled Pillow-9.2.0\n",
      "  Attempting uninstall: idna\n",
      "    Found existing installation: idna 3.3\n",
      "    Uninstalling idna-3.3:\n",
      "      Successfully uninstalled idna-3.3\n",
      "  Attempting uninstall: cycler\n",
      "    Found existing installation: cycler 0.11.0\n",
      "    Uninstalling cycler-0.11.0:\n",
      "      Successfully uninstalled cycler-0.11.0\n",
      "  Attempting uninstall: certifi\n",
      "    Found existing installation: certifi 2022.9.24\n",
      "    Uninstalling certifi-2022.9.24:\n",
      "      Successfully uninstalled certifi-2022.9.24\n",
      "\u001b[31mERROR: pip's dependency resolver does not currently take into account all the packages that are installed. This behaviour is the source of the following dependency conflicts.\n",
      "conda-repo-cli 1.0.20 requires clyent==1.2.1, but you have clyent 1.2.2 which is incompatible.\n",
      "conda-repo-cli 1.0.20 requires nbformat==5.4.0, but you have nbformat 5.5.0 which is incompatible.\u001b[0m\u001b[31m\n",
      "\u001b[0mSuccessfully installed Pillow-10.2.0 certifi-2023.7.22 cycler-0.10.0 idna-2.10 opencv-python-headless-4.8.0.74 pyparsing-2.4.7 python-dotenv-1.0.0 python-magic-0.4.27 requests-toolbelt-1.0.0 roboflow-1.1.14 supervision-0.17.1\n"
     ]
    }
   ],
   "source": [
    "# install dependencies (macos)\n",
    "\n",
    "# ultralytics' YOLOv8\n",
    "!python -m pip install ultralytics \n",
    "# roboflow\n",
    "!python -m pip install roboflow"
   ]
  },
  {
   "cell_type": "code",
   "execution_count": 6,
   "metadata": {},
   "outputs": [],
   "source": [
    "from roboflow import Roboflow\n",
    "from ultralytics import YOLO\n",
    "\n",
    "# import os\n",
    "# from IPython.display import display, Image\n",
    "# from IPython import display\n",
    "# display.clear_output()\n",
    "\n",
    "\n",
    "!yolo check"
   ]
  },
  {
   "cell_type": "code",
   "execution_count": 9,
   "metadata": {},
   "outputs": [
    {
     "name": "stdout",
     "output_type": "stream",
     "text": [
      "loading Roboflow workspace...\n",
      "loading Roboflow project...\n",
      "Dependency ultralytics==8.0.196 is required but found version=8.0.232, to fix: `pip install ultralytics==8.0.196`\n"
     ]
    },
    {
     "name": "stderr",
     "output_type": "stream",
     "text": [
      "Downloading Dataset Version Zip in ua912903929sadie291-better-morning-1 to yolov8:: 100%|██████████| 4584/4584 [00:00<00:00, 12528.26it/s]"
     ]
    },
    {
     "name": "stdout",
     "output_type": "stream",
     "text": [
      "\n"
     ]
    },
    {
     "name": "stderr",
     "output_type": "stream",
     "text": [
      "\n",
      "Extracting Dataset Version Zip to ua912903929sadie291-better-morning-1 in yolov8:: 100%|██████████| 258/258 [00:00<00:00, 4067.93it/s]\n"
     ]
    }
   ],
   "source": [
    "rf = Roboflow(api_key=APIKEY)\n",
    "project = rf.workspace(\"better-morning\").project(PROJECT_NAME)\n",
    "dataset = project.version(1).download(\"yolov8\")\n"
   ]
  },
  {
   "cell_type": "code",
   "execution_count": null,
   "metadata": {},
   "outputs": [],
   "source": [
    "# # load model\n",
    "# model = YOLO(\"yolov8n.pt\") # pretrained\n",
    "# model.train(data=\"dataset.yaml\", epochs=10, imgsz=640)\n",
    "# !yolo task=detect mode=train model=yolov8n.pt data=datasets/dataset.yaml epochs=5 imgsz=640 device=mps\n",
    "!yolo task=detect mode=train model=yolov8n.pt data={dataset.location}/data.yaml epochs=10 imgsz=640"
   ]
  }
 ],
 "metadata": {
  "kernelspec": {
   "display_name": "Python 3",
   "language": "python",
   "name": "python3"
  },
  "language_info": {
   "codemirror_mode": {
    "name": "ipython",
    "version": 3
   },
   "file_extension": ".py",
   "mimetype": "text/x-python",
   "name": "python",
   "nbconvert_exporter": "python",
   "pygments_lexer": "ipython3",
   "version": "3.9.13"
  }
 },
 "nbformat": 4,
 "nbformat_minor": 2
}
