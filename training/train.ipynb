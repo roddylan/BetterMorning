{
 "cells": [
  {
   "cell_type": "code",
   "execution_count": 5,
   "metadata": {},
   "outputs": [
    {
     "name": "stdout",
     "output_type": "stream",
     "text": [
      "Requirement already satisfied: torch in /Users/rodericklan/opt/anaconda3/lib/python3.9/site-packages (1.13.1)\n",
      "Requirement already satisfied: typing-extensions in /Users/rodericklan/opt/anaconda3/lib/python3.9/site-packages (from torch) (4.3.0)\n",
      "Requirement already satisfied: numpy in /Users/rodericklan/opt/anaconda3/lib/python3.9/site-packages (1.24.4)\n",
      "Requirement already satisfied: ultralytics in /Users/rodericklan/opt/anaconda3/lib/python3.9/site-packages (8.0.232)\n",
      "Requirement already satisfied: numpy>=1.22.2 in /Users/rodericklan/opt/anaconda3/lib/python3.9/site-packages (from ultralytics) (1.24.4)\n",
      "Requirement already satisfied: scipy>=1.4.1 in /Users/rodericklan/opt/anaconda3/lib/python3.9/site-packages (from ultralytics) (1.9.1)\n",
      "Requirement already satisfied: pillow>=7.1.2 in /Users/rodericklan/opt/anaconda3/lib/python3.9/site-packages (from ultralytics) (9.2.0)\n",
      "Requirement already satisfied: psutil in /Users/rodericklan/opt/anaconda3/lib/python3.9/site-packages (from ultralytics) (5.9.0)\n",
      "Requirement already satisfied: torch>=1.8.0 in /Users/rodericklan/opt/anaconda3/lib/python3.9/site-packages (from ultralytics) (1.13.1)\n",
      "Requirement already satisfied: matplotlib>=3.3.0 in /Users/rodericklan/opt/anaconda3/lib/python3.9/site-packages (from ultralytics) (3.5.2)\n",
      "Requirement already satisfied: requests>=2.23.0 in /Users/rodericklan/opt/anaconda3/lib/python3.9/site-packages (from ultralytics) (2.28.1)\n",
      "Requirement already satisfied: seaborn>=0.11.0 in /Users/rodericklan/opt/anaconda3/lib/python3.9/site-packages (from ultralytics) (0.11.2)\n",
      "Requirement already satisfied: opencv-python>=4.6.0 in /Users/rodericklan/opt/anaconda3/lib/python3.9/site-packages (from ultralytics) (4.9.0.80)\n",
      "Requirement already satisfied: tqdm>=4.64.0 in /Users/rodericklan/opt/anaconda3/lib/python3.9/site-packages (from ultralytics) (4.64.1)\n",
      "Requirement already satisfied: pyyaml>=5.3.1 in /Users/rodericklan/opt/anaconda3/lib/python3.9/site-packages (from ultralytics) (6.0)\n",
      "Requirement already satisfied: torchvision>=0.9.0 in /Users/rodericklan/opt/anaconda3/lib/python3.9/site-packages (from ultralytics) (0.14.1)\n",
      "Requirement already satisfied: pandas>=1.1.4 in /Users/rodericklan/opt/anaconda3/lib/python3.9/site-packages (from ultralytics) (1.4.4)\n",
      "Requirement already satisfied: py-cpuinfo in /Users/rodericklan/opt/anaconda3/lib/python3.9/site-packages (from ultralytics) (9.0.0)\n",
      "Requirement already satisfied: thop>=0.1.1 in /Users/rodericklan/opt/anaconda3/lib/python3.9/site-packages (from ultralytics) (0.1.1.post2209072238)\n",
      "Requirement already satisfied: pyparsing>=2.2.1 in /Users/rodericklan/opt/anaconda3/lib/python3.9/site-packages (from matplotlib>=3.3.0->ultralytics) (3.0.9)\n",
      "Requirement already satisfied: packaging>=20.0 in /Users/rodericklan/opt/anaconda3/lib/python3.9/site-packages (from matplotlib>=3.3.0->ultralytics) (21.3)\n",
      "Requirement already satisfied: cycler>=0.10 in /Users/rodericklan/opt/anaconda3/lib/python3.9/site-packages (from matplotlib>=3.3.0->ultralytics) (0.11.0)\n",
      "Requirement already satisfied: fonttools>=4.22.0 in /Users/rodericklan/opt/anaconda3/lib/python3.9/site-packages (from matplotlib>=3.3.0->ultralytics) (4.25.0)\n",
      "Requirement already satisfied: python-dateutil>=2.7 in /Users/rodericklan/opt/anaconda3/lib/python3.9/site-packages (from matplotlib>=3.3.0->ultralytics) (2.8.2)\n",
      "Requirement already satisfied: kiwisolver>=1.0.1 in /Users/rodericklan/opt/anaconda3/lib/python3.9/site-packages (from matplotlib>=3.3.0->ultralytics) (1.4.2)\n",
      "Requirement already satisfied: pytz>=2020.1 in /Users/rodericklan/opt/anaconda3/lib/python3.9/site-packages (from pandas>=1.1.4->ultralytics) (2022.1)\n",
      "Requirement already satisfied: certifi>=2017.4.17 in /Users/rodericklan/opt/anaconda3/lib/python3.9/site-packages (from requests>=2.23.0->ultralytics) (2022.9.24)\n",
      "Requirement already satisfied: charset-normalizer<3,>=2 in /Users/rodericklan/opt/anaconda3/lib/python3.9/site-packages (from requests>=2.23.0->ultralytics) (2.0.4)\n",
      "Requirement already satisfied: idna<4,>=2.5 in /Users/rodericklan/opt/anaconda3/lib/python3.9/site-packages (from requests>=2.23.0->ultralytics) (3.3)\n",
      "Requirement already satisfied: urllib3<1.27,>=1.21.1 in /Users/rodericklan/opt/anaconda3/lib/python3.9/site-packages (from requests>=2.23.0->ultralytics) (1.26.11)\n",
      "Requirement already satisfied: typing-extensions in /Users/rodericklan/opt/anaconda3/lib/python3.9/site-packages (from torch>=1.8.0->ultralytics) (4.3.0)\n",
      "Requirement already satisfied: six>=1.5 in /Users/rodericklan/opt/anaconda3/lib/python3.9/site-packages (from python-dateutil>=2.7->matplotlib>=3.3.0->ultralytics) (1.16.0)\n"
     ]
    }
   ],
   "source": [
    "# install dependencies (macos)\n",
    "import sys\n",
    "\n",
    "!{sys.executable} -m pip install torch # pytorch\n",
    "!{sys.executable} -m pip install numpy # numpy\n",
    "!{sys.executable} -m pip install ultralytics # ultralytics' YOLOv8\n",
    "!{sys.executable} -m pip install matplotlib # matplotlib\n"
   ]
  },
  {
   "cell_type": "code",
   "execution_count": 8,
   "metadata": {},
   "outputs": [],
   "source": [
    "import torch\n",
    "from matplotlib import pyplot as plt\n",
    "import numpy as np \n",
    "import cv2 # opencv\n",
    "from ultralytics import YOLO"
   ]
  },
  {
   "cell_type": "code",
   "execution_count": 9,
   "metadata": {},
   "outputs": [
    {
     "name": "stdout",
     "output_type": "stream",
     "text": [
      "Downloading https://github.com/ultralytics/assets/releases/download/v0.0.0/yolov8n.pt to 'yolov8n.pt'...\n"
     ]
    },
    {
     "data": {
      "application/vnd.jupyter.widget-view+json": {
       "model_id": "f94e538ee8bb4dd7b9b794ea068bc4e5",
       "version_major": 2,
       "version_minor": 0
      },
      "text/plain": [
       "  0%|          | 0.00/6.23M [00:00<?, ?B/s]"
      ]
     },
     "metadata": {},
     "output_type": "display_data"
    }
   ],
   "source": [
    "# load model\n",
    "model = YOLO(\"yolov8n.pt\") # pretrained"
   ]
  },
  {
   "cell_type": "code",
   "execution_count": null,
   "metadata": {},
   "outputs": [],
   "source": []
  }
 ],
 "metadata": {
  "kernelspec": {
   "display_name": "Python 3",
   "language": "python",
   "name": "python3"
  },
  "language_info": {
   "codemirror_mode": {
    "name": "ipython",
    "version": 3
   },
   "file_extension": ".py",
   "mimetype": "text/x-python",
   "name": "python",
   "nbconvert_exporter": "python",
   "pygments_lexer": "ipython3",
   "version": "3.9.13"
  }
 },
 "nbformat": 4,
 "nbformat_minor": 2
}
