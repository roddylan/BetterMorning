{
 "cells": [
  {
   "cell_type": "code",
   "execution_count": 6,
   "metadata": {},
   "outputs": [
    {
     "name": "stdout",
     "output_type": "stream",
     "text": [
      "Requirement already satisfied: opencv-python in /Users/rodericklan/opt/anaconda3/lib/python3.9/site-packages (4.9.0.80)\n",
      "Requirement already satisfied: numpy>=1.17.3 in /Users/rodericklan/opt/anaconda3/lib/python3.9/site-packages (from opencv-python) (1.24.4)\n",
      "fatal: destination path 'labelImg' already exists and is not an empty directory.\n",
      "Collecting pyqt5\n",
      "  Using cached PyQt5-5.15.10-cp37-abi3-macosx_10_13_x86_64.whl (7.0 MB)\n",
      "Requirement already satisfied: lxml in /Users/rodericklan/opt/anaconda3/lib/python3.9/site-packages (4.9.1)\n",
      "Collecting lxml\n",
      "  Using cached lxml-5.0.0.zip (4.1 MB)\n",
      "  Preparing metadata (setup.py) ... \u001b[?25ldone\n",
      "\u001b[?25hCollecting PyQt5-sip<13,>=12.13\n",
      "  Using cached PyQt5_sip-12.13.0-cp39-cp39-macosx_10_9_universal2.whl (144 kB)\n",
      "Collecting PyQt5-Qt5>=5.15.2\n",
      "  Using cached PyQt5_Qt5-5.15.12-py3-none-macosx_10_13_x86_64.whl (38.8 MB)\n",
      "Building wheels for collected packages: lxml\n",
      "  Building wheel for lxml (setup.py) ... \u001b[?25l-^C\n",
      "\u001b[?25canceled\n",
      "\u001b[31mERROR: Operation cancelled by user\u001b[0m\u001b[31m\n",
      "\u001b[0m"
     ]
    }
   ],
   "source": [
    "# dependencies\n",
    "import sys\n",
    "# opencv\n",
    "!{sys.executable} -m pip install opencv-python \n",
    "\n",
    "# label\n",
    "!git clone https://github.com/HumanSignal/labelImg\n",
    "\n"
   ]
  },
  {
   "cell_type": "code",
   "execution_count": 8,
   "metadata": {},
   "outputs": [
    {
     "name": "stdout",
     "output_type": "stream",
     "text": [
      "Collecting pyqtwebengine\n",
      "  Downloading PyQtWebEngine-5.15.6-cp37-abi3-macosx_10_13_x86_64.whl (187 kB)\n",
      "\u001b[2K     \u001b[90m━━━━━━━━━━━━━━━━━━━━━━━━━━━━━━━━━━━━━\u001b[0m \u001b[32m187.6/187.6 kB\u001b[0m \u001b[31m976.1 kB/s\u001b[0m eta \u001b[36m0:00:00\u001b[0ma \u001b[36m0:00:01\u001b[0m\n",
      "\u001b[?25hRequirement already satisfied: PyQt5-sip<13,>=12.11 in /Users/rodericklan/opt/anaconda3/lib/python3.9/site-packages (from pyqtwebengine) (12.13.0)\n",
      "Collecting PyQtWebEngine-Qt5>=5.15.0\n",
      "  Downloading PyQtWebEngine_Qt5-5.15.12-py3-none-macosx_10_13_x86_64.whl (73.4 MB)\n",
      "\u001b[2K     \u001b[90m━━━━━━━━━━━━━━━━━━━━━━━━━━━━━━━━━━━━━━━━\u001b[0m \u001b[32m73.4/73.4 MB\u001b[0m \u001b[31m7.2 MB/s\u001b[0m eta \u001b[36m0:00:00\u001b[0m00:01\u001b[0m00:01\u001b[0m\n",
      "\u001b[?25hRequirement already satisfied: PyQt5>=5.15.4 in /Users/rodericklan/opt/anaconda3/lib/python3.9/site-packages (from pyqtwebengine) (5.15.10)\n",
      "Requirement already satisfied: PyQt5-Qt5>=5.15.2 in /Users/rodericklan/opt/anaconda3/lib/python3.9/site-packages (from PyQt5>=5.15.4->pyqtwebengine) (5.15.12)\n",
      "Installing collected packages: PyQtWebEngine-Qt5, pyqtwebengine\n",
      "Successfully installed PyQtWebEngine-Qt5-5.15.12 pyqtwebengine-5.15.6\n",
      "Requirement already satisfied: pyqt5 in /Users/rodericklan/opt/anaconda3/lib/python3.9/site-packages (5.15.10)\n",
      "Requirement already satisfied: lxml in /Users/rodericklan/opt/anaconda3/lib/python3.9/site-packages (4.9.1)\n",
      "Requirement already satisfied: PyQt5-sip<13,>=12.13 in /Users/rodericklan/opt/anaconda3/lib/python3.9/site-packages (from pyqt5) (12.13.0)\n",
      "Requirement already satisfied: PyQt5-Qt5>=5.15.2 in /Users/rodericklan/opt/anaconda3/lib/python3.9/site-packages (from pyqt5) (5.15.12)\n"
     ]
    }
   ],
   "source": [
    "!{sys.executable} -m pip install pyqtwebengine\n",
    "!{sys.executable} -m pip install pyqt5 lxml\n"
   ]
  },
  {
   "cell_type": "code",
   "execution_count": 2,
   "metadata": {},
   "outputs": [],
   "source": [
    "import uuid, os, time, cv2"
   ]
  },
  {
   "cell_type": "code",
   "execution_count": 3,
   "metadata": {},
   "outputs": [],
   "source": [
    "IMG_PATH = os.path.join(\"data\", \"images\")\n",
    "labels = [\"awake-sad\", \"awake-neutral\", \"awake-happy\", \"tired-sad\", \"tired-neutral\", \"tired-happy\"]\n",
    "n_imgs = 20"
   ]
  },
  {
   "cell_type": "code",
   "execution_count": null,
   "metadata": {},
   "outputs": [],
   "source": [
    "cap = cv2.VideoCapture(0)\n",
    "\n",
    "# loop through labels\n",
    "for label in labels:\n",
    "    print(f\"collecting imgs for {label}\")\n",
    "    time.sleep(5)\n",
    "\n",
    "    # loop through img range\n",
    "    for i in range(n_imgs):\n",
    "        print(f\"collecting imgs for {label}, img_num {i}\") \n",
    "        ret, frame = cap.read()\n",
    "\n",
    "        # write img file\n",
    "        img_name = os.path.join(IMG_PATH, f\"{label}.{str(uuid.uuid1())}.jpg\")\n",
    "        cv2.imwrite(img_name, frame)\n",
    "\n",
    "        # display/render\n",
    "        cv2.imshow(\"img collection\", frame)\n",
    "        \n",
    "        # 2s delay b/w caps\n",
    "        time.sleep(2)\n",
    "\n",
    "        if cv2.waitKey(10) & 0xFF == ord('q'):\n",
    "            break\n",
    "cap.release()\n",
    "cv2.destroyAllWindows()\n"
   ]
  },
  {
   "cell_type": "markdown",
   "metadata": {},
   "source": [
    "Use `labelImg` to label each img"
   ]
  }
 ],
 "metadata": {
  "kernelspec": {
   "display_name": "Python 3",
   "language": "python",
   "name": "python3"
  },
  "language_info": {
   "codemirror_mode": {
    "name": "ipython",
    "version": 3
   },
   "file_extension": ".py",
   "mimetype": "text/x-python",
   "name": "python",
   "nbconvert_exporter": "python",
   "pygments_lexer": "ipython3",
   "version": "3.9.13"
  }
 },
 "nbformat": 4,
 "nbformat_minor": 2
}
