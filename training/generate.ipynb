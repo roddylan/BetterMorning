{
 "cells": [
  {
   "cell_type": "code",
   "execution_count": 2,
   "metadata": {},
   "outputs": [],
   "source": [
    "import uuid, os, time, cv2"
   ]
  },
  {
   "cell_type": "code",
   "execution_count": 3,
   "metadata": {},
   "outputs": [],
   "source": [
    "IMG_PATH = os.path.join(\"data\", \"images\")\n",
    "labels = [\"awake-sad\", \"awake-neutral\", \"awake-happy\", \"tired-sad\", \"tired-neutral\", \"tired-happy\"]\n",
    "n_imgs = 20"
   ]
  },
  {
   "cell_type": "code",
   "execution_count": null,
   "metadata": {},
   "outputs": [],
   "source": [
    "cap = cv2.VideoCapture(0)\n",
    "\n",
    "for label in labels:\n",
    "    print(f\"collecting imgs for {label}\")\n",
    "    time.sleep(5)\n",
    "    for i in range(n_imgs):\n",
    "        print(f\"collecting imgs for {label}, img_num {i}\") \n",
    "        ret, frame = cap.read()\n",
    "\n",
    "        img_name = os.path.join(IMG_PATH, f\"{label}.{str(uuid.uuid1())}.jpg\")\n",
    "        cv2.imwrite(img_name, frame)\n",
    "        cv2.imshow(\"img collection\", frame)\n",
    "        time.sleep(2)\n"
   ]
  }
 ],
 "metadata": {
  "kernelspec": {
   "display_name": "Python 3",
   "language": "python",
   "name": "python3"
  },
  "language_info": {
   "codemirror_mode": {
    "name": "ipython",
    "version": 3
   },
   "file_extension": ".py",
   "mimetype": "text/x-python",
   "name": "python",
   "nbconvert_exporter": "python",
   "pygments_lexer": "ipython3",
   "version": "3.9.13"
  }
 },
 "nbformat": 4,
 "nbformat_minor": 2
}
