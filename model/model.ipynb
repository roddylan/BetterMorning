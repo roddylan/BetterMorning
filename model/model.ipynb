{
 "cells": [
  {
   "cell_type": "code",
   "execution_count": 10,
   "metadata": {},
   "outputs": [
    {
     "name": "stdout",
     "output_type": "stream",
     "text": [
      "Requirement already satisfied: torch in /Users/rodericklan/opt/anaconda3/lib/python3.9/site-packages (2.1.2)\n",
      "Requirement already satisfied: jinja2 in /Users/rodericklan/opt/anaconda3/lib/python3.9/site-packages (from torch) (2.11.3)\n",
      "Requirement already satisfied: fsspec in /Users/rodericklan/opt/anaconda3/lib/python3.9/site-packages (from torch) (2022.7.1)\n",
      "Requirement already satisfied: sympy in /Users/rodericklan/opt/anaconda3/lib/python3.9/site-packages (from torch) (1.10.1)\n",
      "Requirement already satisfied: networkx in /Users/rodericklan/opt/anaconda3/lib/python3.9/site-packages (from torch) (2.8.4)\n",
      "Requirement already satisfied: typing-extensions in /Users/rodericklan/opt/anaconda3/lib/python3.9/site-packages (from torch) (4.3.0)\n",
      "Requirement already satisfied: filelock in /Users/rodericklan/opt/anaconda3/lib/python3.9/site-packages (from torch) (3.6.0)\n",
      "Requirement already satisfied: MarkupSafe>=0.23 in /Users/rodericklan/opt/anaconda3/lib/python3.9/site-packages (from jinja2->torch) (2.0.1)\n",
      "Requirement already satisfied: mpmath>=0.19 in /Users/rodericklan/opt/anaconda3/lib/python3.9/site-packages (from sympy->torch) (1.2.1)\n"
     ]
    }
   ],
   "source": [
    "# install dependencies\n",
    "!python -m pip install torch\n",
    "!python -m pip install ultralytics"
   ]
  },
  {
   "cell_type": "code",
   "execution_count": 3,
   "metadata": {},
   "outputs": [
    {
     "name": "stdout",
     "output_type": "stream",
     "text": [
      "Ultralytics YOLOv8.0.232 🚀 Python-3.9.13 torch-2.1.2 CPU (Apple M1)\n",
      "Setup complete ✅ (8 CPUs, 16.0 GB RAM, 422.9/926.4 GB disk)\n",
      "\n",
      "OS                  macOS-10.16-x86_64-i386-64bit\n",
      "Environment         Darwin\n",
      "Python              3.9.13\n",
      "Install             pip\n",
      "RAM                 16.00 GB\n",
      "CPU                 Apple M1\n",
      "CUDA                None\n",
      "\n",
      "matplotlib          ✅ 3.5.2>=3.3.0\n",
      "numpy               ✅ 1.24.4>=1.22.2\n",
      "opencv-python       ✅ 4.9.0.80>=4.6.0\n",
      "pillow              ✅ 10.2.0>=7.1.2\n",
      "pyyaml              ✅ 6.0>=5.3.1\n",
      "requests            ✅ 2.28.1>=2.23.0\n",
      "scipy               ✅ 1.9.1>=1.4.1\n",
      "torch               ✅ 2.1.2>=1.8.0\n",
      "torchvision         ✅ 0.16.2>=0.9.0\n",
      "tqdm                ✅ 4.64.1>=4.64.0\n",
      "psutil              ✅ 5.9.0\n",
      "py-cpuinfo          ✅ 9.0.0\n",
      "thop                ✅ 0.1.1-2209072238>=0.1.1\n",
      "pandas              ✅ 1.4.4>=1.1.4\n",
      "seaborn             ✅ 0.11.2>=0.11.0\n"
     ]
    }
   ],
   "source": [
    "import torch\n",
    "from ultralytics import YOLO\n",
    "!yolo check\n"
   ]
  },
  {
   "cell_type": "code",
   "execution_count": 8,
   "metadata": {},
   "outputs": [],
   "source": [
    "model = YOLO(\"../training/runs/detect/train/weights/best.pt\")"
   ]
  }
 ],
 "metadata": {
  "kernelspec": {
   "display_name": "Python 3",
   "language": "python",
   "name": "python3"
  },
  "language_info": {
   "codemirror_mode": {
    "name": "ipython",
    "version": 3
   },
   "file_extension": ".py",
   "mimetype": "text/x-python",
   "name": "python",
   "nbconvert_exporter": "python",
   "pygments_lexer": "ipython3",
   "version": "3.9.13"
  }
 },
 "nbformat": 4,
 "nbformat_minor": 2
}
